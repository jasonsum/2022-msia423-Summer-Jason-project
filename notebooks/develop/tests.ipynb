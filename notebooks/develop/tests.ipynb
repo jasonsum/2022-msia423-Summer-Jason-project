{
 "cells": [
  {
   "cell_type": "code",
   "execution_count": 130,
   "metadata": {},
   "outputs": [],
   "source": [
    "import os\n",
    "import sys\n",
    "\n",
    "module_path = os.path.abspath(os.path.join('../../'))\n",
    "if module_path not in sys.path:\n",
    "    sys.path.append(module_path)"
   ]
  },
  {
   "cell_type": "code",
   "execution_count": 75,
   "metadata": {},
   "outputs": [],
   "source": [
    "import numpy as np\n",
    "import pandas as pd\n",
    "from sklearn.linear_model import LinearRegression\n",
    "from sklearn.metrics import mean_squared_error"
   ]
  },
  {
   "cell_type": "code",
   "execution_count": 118,
   "metadata": {},
   "outputs": [],
   "source": [
    "from src.clean import import_file\n",
    "from src.evaluate import capture_rmse"
   ]
  },
  {
   "cell_type": "code",
   "execution_count": 131,
   "metadata": {},
   "outputs": [],
   "source": [
    "df = import_file('../../data/clean/score.csv',\n",
    "                 columns = [\"GHLTH\",\n",
    "                            \"predictions\",\n",
    "                            \"ACCESS2\",\n",
    "                            \"BINGE\"\n",
    "                            ])"
   ]
  },
  {
   "cell_type": "code",
   "execution_count": 137,
   "metadata": {},
   "outputs": [
    {
     "name": "stderr",
     "output_type": "stream",
     "text": [
      "Model RMSE exceeds 5.\n"
     ]
    }
   ],
   "source": [
    "rmse = capture_rmse(df, comp_prop = False)"
   ]
  },
  {
   "cell_type": "code",
   "execution_count": 139,
   "metadata": {},
   "outputs": [
    {
     "data": {
      "text/plain": [
       "0.08438243263804619"
      ]
     },
     "execution_count": 139,
     "metadata": {},
     "output_type": "execute_result"
    }
   ],
   "source": [
    "rmse"
   ]
  },
  {
   "cell_type": "code",
   "execution_count": 134,
   "metadata": {},
   "outputs": [],
   "source": [
    "rmse_log = np.log(0.05 / (1 - .05))"
   ]
  },
  {
   "cell_type": "code",
   "execution_count": 136,
   "metadata": {},
   "outputs": [
    {
     "data": {
      "text/html": [
       "<div>\n",
       "<style scoped>\n",
       "    .dataframe tbody tr th:only-of-type {\n",
       "        vertical-align: middle;\n",
       "    }\n",
       "\n",
       "    .dataframe tbody tr th {\n",
       "        vertical-align: top;\n",
       "    }\n",
       "\n",
       "    .dataframe thead th {\n",
       "        text-align: right;\n",
       "    }\n",
       "</style>\n",
       "<table border=\"1\" class=\"dataframe\">\n",
       "  <thead>\n",
       "    <tr style=\"text-align: right;\">\n",
       "      <th></th>\n",
       "      <th>ACCESS2</th>\n",
       "      <th>BINGE</th>\n",
       "      <th>GHLTH</th>\n",
       "      <th>predictions</th>\n",
       "    </tr>\n",
       "  </thead>\n",
       "  <tbody>\n",
       "    <tr>\n",
       "      <th>count</th>\n",
       "      <td>21102.000000</td>\n",
       "      <td>21102.000000</td>\n",
       "      <td>21102.000000</td>\n",
       "      <td>21102.000000</td>\n",
       "    </tr>\n",
       "    <tr>\n",
       "      <th>mean</th>\n",
       "      <td>0.163494</td>\n",
       "      <td>0.176278</td>\n",
       "      <td>-1.447675</td>\n",
       "      <td>-1.447890</td>\n",
       "    </tr>\n",
       "    <tr>\n",
       "      <th>std</th>\n",
       "      <td>0.083211</td>\n",
       "      <td>0.034589</td>\n",
       "      <td>0.457652</td>\n",
       "      <td>0.449524</td>\n",
       "    </tr>\n",
       "    <tr>\n",
       "      <th>min</th>\n",
       "      <td>0.033000</td>\n",
       "      <td>0.028000</td>\n",
       "      <td>-2.903111</td>\n",
       "      <td>-2.596475</td>\n",
       "    </tr>\n",
       "    <tr>\n",
       "      <th>25%</th>\n",
       "      <td>0.104000</td>\n",
       "      <td>0.154000</td>\n",
       "      <td>-1.782457</td>\n",
       "      <td>-1.783484</td>\n",
       "    </tr>\n",
       "    <tr>\n",
       "      <th>50%</th>\n",
       "      <td>0.142000</td>\n",
       "      <td>0.175000</td>\n",
       "      <td>-1.476214</td>\n",
       "      <td>-1.506494</td>\n",
       "    </tr>\n",
       "    <tr>\n",
       "      <th>75%</th>\n",
       "      <td>0.201000</td>\n",
       "      <td>0.196000</td>\n",
       "      <td>-1.136302</td>\n",
       "      <td>-1.172092</td>\n",
       "    </tr>\n",
       "    <tr>\n",
       "      <th>max</th>\n",
       "      <td>0.614000</td>\n",
       "      <td>0.403000</td>\n",
       "      <td>0.152294</td>\n",
       "      <td>0.552049</td>\n",
       "    </tr>\n",
       "  </tbody>\n",
       "</table>\n",
       "</div>"
      ],
      "text/plain": [
       "            ACCESS2         BINGE         GHLTH   predictions\n",
       "count  21102.000000  21102.000000  21102.000000  21102.000000\n",
       "mean       0.163494      0.176278     -1.447675     -1.447890\n",
       "std        0.083211      0.034589      0.457652      0.449524\n",
       "min        0.033000      0.028000     -2.903111     -2.596475\n",
       "25%        0.104000      0.154000     -1.782457     -1.783484\n",
       "50%        0.142000      0.175000     -1.476214     -1.506494\n",
       "75%        0.201000      0.196000     -1.136302     -1.172092\n",
       "max        0.614000      0.403000      0.152294      0.552049"
      ]
     },
     "execution_count": 136,
     "metadata": {},
     "output_type": "execute_result"
    }
   ],
   "source": [
    "df.describe()"
   ]
  },
  {
   "cell_type": "code",
   "execution_count": 127,
   "metadata": {},
   "outputs": [],
   "source": [
    "df_in_values = [[ 0.086     ,  0.187     , -1.71126277, -1.74854762],\n",
    "                [ 0.152     ,  0.198     , -1.79877704, -1.83784209],\n",
    "                [ 0.364     ,  0.141     , -0.70366568, -0.68524022],\n",
    "                [ 0.194     ,  0.183     , -1.5231373 , -1.62628582],\n",
    "                [ 0.169     ,  0.18      , -1.21396637, -1.18164287]]\n",
    "df_in_index = [1065, 9835, 10353, 17803, 18479]\n",
    "df_in_columns = [\"GHLTH\",\n",
    "                 \"predictions\",\n",
    "                 \"ACCESS2\",\n",
    "                 \"BINGE\"]\n",
    "df_in = pd.DataFrame(df_in_values, index=df_in_index, columns=df_in_columns)"
   ]
  },
  {
   "cell_type": "code",
   "execution_count": 128,
   "metadata": {},
   "outputs": [],
   "source": [
    "rmse_true  = capture_rmse(df_in,\n",
    "                          true_col = \"GHLTH\",\n",
    "                          pred_col = \"predictions\",\n",
    "                          comp_prop = True)"
   ]
  },
  {
   "cell_type": "code",
   "execution_count": 129,
   "metadata": {},
   "outputs": [
    {
     "data": {
      "text/plain": [
       "0.027500422077908176"
      ]
     },
     "execution_count": 129,
     "metadata": {},
     "output_type": "execute_result"
    }
   ],
   "source": [
    "rmse_true"
   ]
  },
  {
   "cell_type": "code",
   "execution_count": 109,
   "metadata": {},
   "outputs": [],
   "source": [
    "params_test, _ = fit_model(df_in,\n",
    "                          features = [\"ACCESS2\",\n",
    "                                        \"BINGE\"],\n",
    "                          response = 'GHLTH',\n",
    "                          method = \"linearregression\",\n",
    "                          fit_intercept=True)"
   ]
  },
  {
   "cell_type": "code",
   "execution_count": 110,
   "metadata": {},
   "outputs": [],
   "source": [
    "params_test = {key:round(value,3) for (key,value) in params_test.items()}"
   ]
  },
  {
   "cell_type": "code",
   "execution_count": 111,
   "metadata": {},
   "outputs": [
    {
     "data": {
      "text/plain": [
       "{'access2': 3.594, 'binge': 2.582, 'intercept': -2.648}"
      ]
     },
     "execution_count": 111,
     "metadata": {},
     "output_type": "execute_result"
    }
   ],
   "source": [
    "params_test"
   ]
  },
  {
   "cell_type": "code",
   "execution_count": 78,
   "metadata": {},
   "outputs": [
    {
     "data": {
      "text/plain": [
       "array([ 1.40595952, -0.6805987 ,  0.19691535,  0.57009933, -0.39728127,\n",
       "       -0.14218024,  0.0587362 ,  0.09869009, -0.42440064, -0.55205471,\n",
       "        0.13562066,  0.72115023,  0.13586322,  0.32107758, -0.38931773,\n",
       "        0.07582709, -0.4732544 ,  0.14612   ,  0.        ,  0.        ,\n",
       "        0.091695  ,  0.        ,  0.87709756])"
      ]
     },
     "execution_count": 78,
     "metadata": {},
     "output_type": "execute_result"
    }
   ],
   "source": [
    "model.coef_"
   ]
  },
  {
   "cell_type": "code",
   "execution_count": 50,
   "metadata": {},
   "outputs": [],
   "source": [
    "df_in_values = [['New York', 'Onondaga', 36067, 36067013200, 2958, 34.2, 81.3,\n",
    "        10.4, 16.2, 36.4],\n",
    "       ['Massachusetts', 'Plymouth', 25023, 25023525104, 6289, 26.4,\n",
    "        72.2, 6.9, 10.7, 29.2],\n",
    "       ['California', 'Los Angeles', 12086, 12086009806, 2631, 36.4, 77.3,\n",
    "        7.3, 24.3, 31.7]]\n",
    "df_in_index = [43633, 31974, 16353]\n",
    "df_in_columns = ['StateDesc', 'CountyName', 'CountyFIPS', 'LocationID',\n",
    "       'TotalPopulation', 'BPHIGH', 'BPMED', 'CANCER', 'GHLTH', 'HIGHCHOL']\n",
    "df_in = pd.DataFrame(df_in_values, index=df_in_index, columns=df_in_columns)\n",
    "\n",
    "# Define region_state_mapping\n",
    "states_region_mapping = {\n",
    "    'California': 'West','New York': 'Northeast','Massachusetts': 'Northeast'}"
   ]
  },
  {
   "cell_type": "code",
   "execution_count": 51,
   "metadata": {},
   "outputs": [],
   "source": [
    "df_true = one_hot_encode(df_in,\n",
    "                            states_region_mapping)"
   ]
  },
  {
   "cell_type": "code",
   "execution_count": 56,
   "metadata": {},
   "outputs": [],
   "source": [
    "exp_result = pd.DataFrame(\n",
    "            [['New York', 'Onondaga', 36067, 36067013200, 2958, 34.2, 81.3,\n",
    "        10.4, 16.2, 36.4, 'Northeast', 1],\n",
    "       ['Massachusetts', 'Plymouth', 25023, 25023525104, 6289, 26.4,\n",
    "        72.2, 6.9, 10.7, 29.2, 'Northeast', 1],\n",
    "       ['California', 'Los Angeles', 12086, 12086009806, 2631, 36.4,\n",
    "        77.3, 7.3, 24.3, 31.7, 'West', 0]],\n",
    "            index = [43633, 31974, 16353],\n",
    "            columns = ['StateDesc', 'CountyName', 'CountyFIPS', 'LocationID',\n",
    "                       'TotalPopulation', 'BPHIGH', 'BPMED', 'CANCER', 'GHLTH',\n",
    "                       'HIGHCHOL', 'region', 'Northeast'])"
   ]
  },
  {
   "cell_type": "code",
   "execution_count": 57,
   "metadata": {},
   "outputs": [
    {
     "name": "stdout",
     "output_type": "stream",
     "text": [
      "<class 'pandas.core.frame.DataFrame'>\n",
      "Int64Index: 3 entries, 43633 to 16353\n",
      "Data columns (total 12 columns):\n",
      " #   Column           Non-Null Count  Dtype  \n",
      "---  ------           --------------  -----  \n",
      " 0   StateDesc        3 non-null      object \n",
      " 1   CountyName       3 non-null      object \n",
      " 2   CountyFIPS       3 non-null      int64  \n",
      " 3   LocationID       3 non-null      int64  \n",
      " 4   TotalPopulation  3 non-null      int64  \n",
      " 5   BPHIGH           3 non-null      float64\n",
      " 6   BPMED            3 non-null      float64\n",
      " 7   CANCER           3 non-null      float64\n",
      " 8   GHLTH            3 non-null      float64\n",
      " 9   HIGHCHOL         3 non-null      float64\n",
      " 10  region           3 non-null      object \n",
      " 11  Northeast        3 non-null      int64  \n",
      "dtypes: float64(5), int64(4), object(3)\n",
      "memory usage: 312.0+ bytes\n"
     ]
    }
   ],
   "source": [
    "exp_result.info()"
   ]
  },
  {
   "cell_type": "code",
   "execution_count": 55,
   "metadata": {},
   "outputs": [
    {
     "name": "stdout",
     "output_type": "stream",
     "text": [
      "<class 'pandas.core.frame.DataFrame'>\n",
      "Int64Index: 3 entries, 43633 to 16353\n",
      "Data columns (total 12 columns):\n",
      " #   Column           Non-Null Count  Dtype  \n",
      "---  ------           --------------  -----  \n",
      " 0   StateDesc        3 non-null      object \n",
      " 1   CountyName       3 non-null      object \n",
      " 2   CountyFIPS       3 non-null      int64  \n",
      " 3   LocationID       3 non-null      int64  \n",
      " 4   TotalPopulation  3 non-null      int64  \n",
      " 5   BPHIGH           3 non-null      float64\n",
      " 6   BPMED            3 non-null      float64\n",
      " 7   CANCER           3 non-null      float64\n",
      " 8   GHLTH            3 non-null      float64\n",
      " 9   HIGHCHOL         3 non-null      float64\n",
      " 10  region           3 non-null      object \n",
      " 11  Northeast        3 non-null      uint8  \n",
      "dtypes: float64(5), int64(3), object(3), uint8(1)\n",
      "memory usage: 399.0+ bytes\n"
     ]
    }
   ],
   "source": [
    "df_true.info()"
   ]
  },
  {
   "cell_type": "code",
   "execution_count": 4,
   "metadata": {},
   "outputs": [],
   "source": [
    "df_in_values = np.array([['Michigan', 'Wayne', 26163, 26163543900, 901,\n",
    "        \"{'type': 'Point', 'coordinates': [-83.2493016, 42.38181837]}\",\n",
    "        14.2, None, None],\n",
    "       ['Ohio', 'Summit', 39153, 39153503300, 5606,\n",
    "        \"{'type': 'Point', 'coordinates': [-81.49716013, 41.04049422]}\",\n",
    "        None, None, 21.7],\n",
    "       ['South Carolina', 'Orangeburg', 45075, 45075010200, 5097,\n",
    "        \"{'type': 'Point', 'coordinates': [-80.38981016, 33.3179319]}\",\n",
    "        None, 30.5, None]])\n",
    "df_in_index = [0,1,2]\n",
    "df_in_columns = ['StateDesc', 'CountyName', 'CountyFIPS', 'LocationID',\n",
    "                        'TotalPopulation', 'Geolocation', 'COPD', 'GHLTH', 'MHLTH']\n",
    "df_in = pd.DataFrame(df_in_values, index=df_in_index, columns=df_in_columns)"
   ]
  },
  {
   "cell_type": "code",
   "execution_count": 14,
   "metadata": {},
   "outputs": [
    {
     "data": {
      "text/html": [
       "<div>\n",
       "<style scoped>\n",
       "    .dataframe tbody tr th:only-of-type {\n",
       "        vertical-align: middle;\n",
       "    }\n",
       "\n",
       "    .dataframe tbody tr th {\n",
       "        vertical-align: top;\n",
       "    }\n",
       "\n",
       "    .dataframe thead th {\n",
       "        text-align: right;\n",
       "    }\n",
       "</style>\n",
       "<table border=\"1\" class=\"dataframe\">\n",
       "  <thead>\n",
       "    <tr style=\"text-align: right;\">\n",
       "      <th></th>\n",
       "      <th>CountyFIPS</th>\n",
       "      <th>TotalPopulation</th>\n",
       "      <th>COPD</th>\n",
       "      <th>cde</th>\n",
       "    </tr>\n",
       "  </thead>\n",
       "  <tbody>\n",
       "    <tr>\n",
       "      <th>2</th>\n",
       "      <td>1</td>\n",
       "      <td>2</td>\n",
       "      <td>3</td>\n",
       "      <td>abc</td>\n",
       "    </tr>\n",
       "    <tr>\n",
       "      <th>3</th>\n",
       "      <td>1</td>\n",
       "      <td>2</td>\n",
       "      <td>3</td>\n",
       "      <td>abc</td>\n",
       "    </tr>\n",
       "  </tbody>\n",
       "</table>\n",
       "</div>"
      ],
      "text/plain": [
       "   CountyFIPS  TotalPopulation  COPD  cde\n",
       "2           1                2     3  abc\n",
       "3           1                2     3  abc"
      ]
     },
     "execution_count": 14,
     "metadata": {},
     "output_type": "execute_result"
    }
   ],
   "source": [
    "df2 = pd.DataFrame([[1,2,3,'abc'], [1,2,3,'abc']], index=[2,3])\n",
    "df2.columns = ['CountyFIPS','TotalPopulation', 'COPD','cde']\n",
    "df2.head()"
   ]
  },
  {
   "cell_type": "code",
   "execution_count": 29,
   "metadata": {},
   "outputs": [
    {
     "data": {
      "text/html": [
       "<div>\n",
       "<style scoped>\n",
       "    .dataframe tbody tr th:only-of-type {\n",
       "        vertical-align: middle;\n",
       "    }\n",
       "\n",
       "    .dataframe tbody tr th {\n",
       "        vertical-align: top;\n",
       "    }\n",
       "\n",
       "    .dataframe thead th {\n",
       "        text-align: right;\n",
       "    }\n",
       "</style>\n",
       "<table border=\"1\" class=\"dataframe\">\n",
       "  <thead>\n",
       "    <tr style=\"text-align: right;\">\n",
       "      <th></th>\n",
       "      <th>StateDesc</th>\n",
       "      <th>CountyName</th>\n",
       "      <th>CountyFIPS</th>\n",
       "      <th>LocationID</th>\n",
       "      <th>TotalPopulation</th>\n",
       "      <th>Geolocation</th>\n",
       "      <th>COPD</th>\n",
       "      <th>GHLTH</th>\n",
       "      <th>MHLTH</th>\n",
       "    </tr>\n",
       "  </thead>\n",
       "  <tbody>\n",
       "    <tr>\n",
       "      <th>0</th>\n",
       "      <td>Michigan</td>\n",
       "      <td>Wayne</td>\n",
       "      <td>26163</td>\n",
       "      <td>26163543900</td>\n",
       "      <td>901</td>\n",
       "      <td>{'type': 'Point', 'coordinates': [-83.2493016,...</td>\n",
       "      <td>14.2</td>\n",
       "      <td>NaN</td>\n",
       "      <td>10.1</td>\n",
       "    </tr>\n",
       "    <tr>\n",
       "      <th>1</th>\n",
       "      <td>Ohio</td>\n",
       "      <td>Summit</td>\n",
       "      <td>39153</td>\n",
       "      <td>39153503300</td>\n",
       "      <td>5606</td>\n",
       "      <td>{'type': 'Point', 'coordinates': [-81.49716013...</td>\n",
       "      <td>13.1</td>\n",
       "      <td>11.1</td>\n",
       "      <td>21.7</td>\n",
       "    </tr>\n",
       "    <tr>\n",
       "      <th>2</th>\n",
       "      <td>South Carolina</td>\n",
       "      <td>Orangeburg</td>\n",
       "      <td>45075</td>\n",
       "      <td>45075010200</td>\n",
       "      <td>5097</td>\n",
       "      <td>{'type': 'Point', 'coordinates': [-80.38981016...</td>\n",
       "      <td>12.2</td>\n",
       "      <td>30.5</td>\n",
       "      <td>13.2</td>\n",
       "    </tr>\n",
       "  </tbody>\n",
       "</table>\n",
       "</div>"
      ],
      "text/plain": [
       "        StateDesc  CountyName  CountyFIPS   LocationID  TotalPopulation  \\\n",
       "0        Michigan       Wayne       26163  26163543900              901   \n",
       "1            Ohio      Summit       39153  39153503300             5606   \n",
       "2  South Carolina  Orangeburg       45075  45075010200             5097   \n",
       "\n",
       "                                         Geolocation  COPD  GHLTH  MHLTH  \n",
       "0  {'type': 'Point', 'coordinates': [-83.2493016,...  14.2    NaN   10.1  \n",
       "1  {'type': 'Point', 'coordinates': [-81.49716013...  13.1   11.1   21.7  \n",
       "2  {'type': 'Point', 'coordinates': [-80.38981016...  12.2   30.5   13.2  "
      ]
     },
     "execution_count": 29,
     "metadata": {},
     "output_type": "execute_result"
    }
   ],
   "source": [
    "df_in_values = [['Michigan', 'Wayne', 26163, 26163543900, 901,\n",
    "        \"{'type': 'Point', 'coordinates': [-83.2493016, 42.38181837]}\",\n",
    "        14.2, None, 10.1],\n",
    "       ['Ohio', 'Summit', 39153, 39153503300, 5606,\n",
    "        \"{'type': 'Point', 'coordinates': [-81.49716013, 41.04049422]}\",\n",
    "        13.1, 11.1, 21.7],\n",
    "       ['South Carolina', 'Orangeburg', 45075, 45075010200, 5097,\n",
    "        \"{'type': 'Point', 'coordinates': [-80.38981016, 33.3179319]}\",\n",
    "        12.2, 30.5, 13.2]]\n",
    "df_in_index = [0,1,2]\n",
    "df_in_columns = ['StateDesc', 'CountyName', 'CountyFIPS', 'LocationID',\n",
    "                        'TotalPopulation', 'Geolocation', 'COPD', 'GHLTH', 'MHLTH']\n",
    "df_in = pd.DataFrame(df_in_values, index=df_in_index, columns=df_in_columns)\n",
    "df_in.head()"
   ]
  },
  {
   "cell_type": "code",
   "execution_count": 33,
   "metadata": {},
   "outputs": [
    {
     "data": {
      "text/plain": [
       "Index(['StateDesc', 'CountyName', 'CountyFIPS', 'LocationID',\n",
       "       'TotalPopulation', 'Geolocation', 'COPD', 'GHLTH', 'MHLTH'],\n",
       "      dtype='object')"
      ]
     },
     "execution_count": 33,
     "metadata": {},
     "output_type": "execute_result"
    }
   ],
   "source": [
    "df_true.columns"
   ]
  },
  {
   "cell_type": "code",
   "execution_count": 30,
   "metadata": {},
   "outputs": [
    {
     "name": "stdout",
     "output_type": "stream",
     "text": [
      "<class 'pandas.core.frame.DataFrame'>\n",
      "Int64Index: 2 entries, 1 to 2\n",
      "Data columns (total 9 columns):\n",
      " #   Column           Non-Null Count  Dtype  \n",
      "---  ------           --------------  -----  \n",
      " 0   StateDesc        2 non-null      object \n",
      " 1   CountyName       2 non-null      object \n",
      " 2   CountyFIPS       2 non-null      int64  \n",
      " 3   LocationID       2 non-null      int64  \n",
      " 4   TotalPopulation  2 non-null      int64  \n",
      " 5   Geolocation      2 non-null      object \n",
      " 6   COPD             2 non-null      float64\n",
      " 7   GHLTH            2 non-null      float64\n",
      " 8   MHLTH            2 non-null      float64\n",
      "dtypes: float64(3), int64(3), object(3)\n",
      "memory usage: 160.0+ bytes\n"
     ]
    }
   ],
   "source": [
    "df_true = drop_null_responses(df_in, 'GHLTH')\n",
    "df_true.info()"
   ]
  },
  {
   "cell_type": "code",
   "execution_count": 27,
   "metadata": {},
   "outputs": [],
   "source": [
    "    df_true = pd.DataFrame(\n",
    "            [['South Carolina', 'Orangeburg', 45075, 45075010200, 5097,\n",
    "        \"{'type': 'Point', 'coordinates': [-80.38981016, 33.3179319]}\",\n",
    "        None, 30.5, None]],\n",
    "            index = [2],\n",
    "            columns = ['StateDesc', \n",
    "                       'CountyName', \n",
    "                       'CountyFIPS', \n",
    "                       'LocationID',\n",
    "                       'TotalPopulation',\n",
    "                       'Geolocation', \n",
    "                       'COPD', \n",
    "                       'GHLTH', \n",
    "                       'MHLTH'])\n",
    "df_true"
   ]
  },
  {
   "cell_type": "code",
   "execution_count": 28,
   "metadata": {},
   "outputs": [
    {
     "name": "stdout",
     "output_type": "stream",
     "text": [
      "<class 'pandas.core.frame.DataFrame'>\n",
      "Int64Index: 1 entries, 2 to 2\n",
      "Data columns (total 9 columns):\n",
      " #   Column           Non-Null Count  Dtype  \n",
      "---  ------           --------------  -----  \n",
      " 0   StateDesc        1 non-null      object \n",
      " 1   CountyName       1 non-null      object \n",
      " 2   CountyFIPS       1 non-null      int64  \n",
      " 3   LocationID       1 non-null      int64  \n",
      " 4   TotalPopulation  1 non-null      int64  \n",
      " 5   Geolocation      1 non-null      object \n",
      " 6   COPD             0 non-null      object \n",
      " 7   GHLTH            1 non-null      float64\n",
      " 8   MHLTH            0 non-null      object \n",
      "dtypes: float64(1), int64(3), object(5)\n",
      "memory usage: 80.0+ bytes\n"
     ]
    }
   ],
   "source": [
    "df_true.info()"
   ]
  }
 ],
 "metadata": {
  "interpreter": {
   "hash": "8ed9792eedf18fe21d87add409704ebf65dc626a2ef368b2785049537ea468ad"
  },
  "kernelspec": {
   "display_name": "Python 3.9.12 ('avc_proj')",
   "language": "python",
   "name": "python3"
  },
  "language_info": {
   "codemirror_mode": {
    "name": "ipython",
    "version": 3
   },
   "file_extension": ".py",
   "mimetype": "text/x-python",
   "name": "python",
   "nbconvert_exporter": "python",
   "pygments_lexer": "ipython3",
   "version": "3.9.12"
  },
  "orig_nbformat": 4
 },
 "nbformat": 4,
 "nbformat_minor": 2
}
